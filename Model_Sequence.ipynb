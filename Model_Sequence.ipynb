{
  "nbformat": 4,
  "nbformat_minor": 0,
  "metadata": {
    "colab": {
      "provenance": []
    },
    "kernelspec": {
      "name": "python3",
      "display_name": "Python 3"
    },
    "language_info": {
      "name": "python"
    }
  },
  "cells": [
    {
      "cell_type": "markdown",
      "source": [
        "# What does the data look like?"
      ],
      "metadata": {
        "id": "1YeHfMCJnZrG"
      }
    },
    {
      "cell_type": "code",
      "source": [
        "import pandas as pd\n",
        "\n",
        "df_data_dp = pd.read_csv(\"/content/dp_rep1.csv\")\n",
        "df_data_norm = pd.read_csv(\"/content/norm_rep1.csv\")\n",
        "df_data_sp = pd.read_csv(\"/content/sp_rep1.csv\")\n",
        "\n",
        "df_data_dp.head(), df_data_norm.head(), df_data_sp.head()"
      ],
      "metadata": {
        "id": "2KeKSsv-VFFy"
      },
      "execution_count": null,
      "outputs": []
    },
    {
      "cell_type": "markdown",
      "source": [
        "# Import Training Set"
      ],
      "metadata": {
        "id": "4A8ITL1HmuYd"
      }
    },
    {
      "cell_type": "code",
      "source": [
        "train_file_paths = [\n",
        "    '/content/dp_rep1.csv', '/content/dp_rep2.csv', '/content/dp_rep3.csv', '/content/dp_rep4.csv', '/content/dp_rep5.csv', '/content/dp_rep6.csv', '/content/dp_rep7.csv', '/content/dp_rep8.csv',\n",
        "    '/content/norm_rep1.csv', '/content/norm_rep2.csv', '/content/norm_rep3.csv', '/content/norm_rep4.csv', '/content/norm_rep5.csv', '/content/norm_rep6.csv', '/content/norm_rep7.csv', '/content/norm_rep8.csv',\n",
        "    '/content/sp_rep1.csv', '/content/sp_rep2.csv', '/content/sp_rep3.csv', '/content/sp_rep4.csv', '/content/sp_rep5.csv', '/content/sp_rep6.csv', '/content/sp_rep7.csv', '/content/sp_rep8.csv'\n",
        "]\n",
        "\n",
        "# Load and concatenate all datasets\n",
        "train_data = pd.concat([pd.read_csv(file_path) for file_path in train_file_paths], ignore_index=True)\n",
        "train_data.shape"
      ],
      "metadata": {
        "id": "RZ7R6ZLO1hoN"
      },
      "execution_count": null,
      "outputs": []
    },
    {
      "cell_type": "markdown",
      "source": [
        "# Finalise the Training Set"
      ],
      "metadata": {
        "id": "-tjbjrcnnCJs"
      }
    },
    {
      "cell_type": "code",
      "source": [
        "# Finalise the v1 leading training data\n",
        "x_train_v1 = train_data['Violin 1'].values.reshape(-1, 1)\n",
        "y_train_v1 = train_data[['Violin 2', 'Viola', 'Cello']].values\n",
        "\n",
        "x_train_v1.shape, y_train_v1.shape"
      ],
      "metadata": {
        "id": "9fLlnFhfV9hk"
      },
      "execution_count": null,
      "outputs": []
    },
    {
      "cell_type": "markdown",
      "source": [
        "# Import Validation Set\n"
      ],
      "metadata": {
        "id": "a1nKkTvzkftf"
      }
    },
    {
      "cell_type": "code",
      "source": [
        "validation_file_paths = [\n",
        "    '/content/dp_rep9.csv', '/content/dp_rep10.csv',\n",
        "    '/content/norm_rep9.csv', '/content/norm_rep10.csv',\n",
        "    '/content/sp_rep9.csv', '/content/sp_rep10.csv'\n",
        "]\n",
        "\n",
        "# Load and concatenate all datasets\n",
        "validation_data = pd.concat([pd.read_csv(file_path) for file_path in validation_file_paths], ignore_index=True)\n",
        "validation_data.shape"
      ],
      "metadata": {
        "id": "CdJbYcQsmPXV"
      },
      "execution_count": null,
      "outputs": []
    },
    {
      "cell_type": "markdown",
      "source": [
        "# Finalise the Validation Set"
      ],
      "metadata": {
        "id": "K8rzz_SloHAm"
      }
    },
    {
      "cell_type": "code",
      "source": [
        "# Finalise the v1 leading validation data\n",
        "x_validation_v1 = validation_data['Violin 1'].values.reshape(-1, 1)\n",
        "y_validation_v1 = validation_data[['Violin 2', 'Viola', 'Cello']].values\n",
        "\n",
        "x_validation_v1.shape, y_validation_v1.shape"
      ],
      "metadata": {
        "id": "66IpoDmQn05g"
      },
      "execution_count": null,
      "outputs": []
    },
    {
      "cell_type": "markdown",
      "source": [
        "# Import Testing Set"
      ],
      "metadata": {
        "id": "UGQ1lUHukQ_4"
      }
    },
    {
      "cell_type": "code",
      "source": [
        "test_file_paths = [\n",
        "    '/content/dp_rep11.csv', '/content/dp_rep12.csv',\n",
        "    '/content/norm_rep11.csv', '/content/norm_rep12.csv',\n",
        "    '/content/sp_rep11.csv', '/content/sp_rep12.csv'\n",
        "]\n",
        "\n",
        "# Load and concatenate all datasets\n",
        "test_data = pd.concat([pd.read_csv(file_path) for file_path in test_file_paths], ignore_index=True)\n",
        "test_data.shape"
      ],
      "metadata": {
        "id": "fd8LU7QGnA76"
      },
      "execution_count": null,
      "outputs": []
    },
    {
      "cell_type": "markdown",
      "source": [
        "# Finalise the Testing Set"
      ],
      "metadata": {
        "id": "gkXcXgjxqzQ-"
      }
    },
    {
      "cell_type": "code",
      "source": [
        "# Finalise the v1 leading trainign data\n",
        "x_test_v1 = test_data['Violin 1'].values.reshape(-1, 1)\n",
        "y_test_v1 = test_data[['Violin 2', 'Viola', 'Cello']].values\n",
        "\n",
        "x_test_v1.shape, y_test_v1.shape"
      ],
      "metadata": {
        "id": "y5R-kIweWGFN"
      },
      "execution_count": null,
      "outputs": []
    },
    {
      "cell_type": "markdown",
      "source": [
        "# Standardise the Training Set"
      ],
      "metadata": {
        "id": "pYi3ewbCrCG3"
      }
    },
    {
      "cell_type": "code",
      "source": [
        "from sklearn.preprocessing import StandardScaler\n",
        "\n",
        "# Standardize the x training data\n",
        "scaler_x_train_v1 = StandardScaler().fit(x_train_v1)\n",
        "x_train_v1_std = scaler_x_train_v1.transform(x_train_v1)\n",
        "\n",
        "# Standardize the y training data\n",
        "scaler_y_train_v1 = StandardScaler().fit(y_train_v1)\n",
        "y_train_v1_std = scaler_y_train_v1.transform(y_train_v1)\n",
        "\n",
        "x_train_v1_std.shape, y_train_v1_std.shape,"
      ],
      "metadata": {
        "id": "U5xkdRBypH_5"
      },
      "execution_count": null,
      "outputs": []
    },
    {
      "cell_type": "markdown",
      "source": [
        "# Standardise the Validation Set"
      ],
      "metadata": {
        "id": "tu93gUH9pbIO"
      }
    },
    {
      "cell_type": "code",
      "source": [
        "# Standardize the x validation data\n",
        "scaler_x_validation_v1 = StandardScaler().fit(x_validation_v1)\n",
        "x_validation_v1_std = scaler_x_validation_v1.transform(x_validation_v1)\n",
        "\n",
        "# Standardize the y validation data\n",
        "scaler_y_validation_v1 = StandardScaler().fit(y_validation_v1)\n",
        "y_validation_v1_std = scaler_y_validation_v1.transform(y_validation_v1)\n",
        "\n",
        "x_validation_v1_std.shape, y_validation_v1_std.shape,"
      ],
      "metadata": {
        "id": "3Mxko_NNplSM"
      },
      "execution_count": null,
      "outputs": []
    },
    {
      "cell_type": "markdown",
      "source": [
        "# Standardise the Testing Set"
      ],
      "metadata": {
        "id": "hJ5irS5zrMhq"
      }
    },
    {
      "cell_type": "code",
      "source": [
        "# Standardize the x testing data\n",
        "scaler_x_test_v1 = StandardScaler().fit(x_test_v1)\n",
        "x_test_v1_std = scaler_x_test_v1.transform(x_test_v1)\n",
        "\n",
        "# Standardize the y testing data\n",
        "scaler_y_test_v1 = StandardScaler().fit(y_test_v1)\n",
        "y_test_v1_std = scaler_y_test_v1.transform(y_test_v1)\n",
        "\n",
        "x_test_v1_std.shape, y_test_v1_std.shape"
      ],
      "metadata": {
        "id": "L9qF2onJpPUE"
      },
      "execution_count": null,
      "outputs": []
    },
    {
      "cell_type": "markdown",
      "source": [
        "# Model v7.0"
      ],
      "metadata": {
        "id": "CVNEqpvmEh6C"
      }
    },
    {
      "cell_type": "code",
      "source": [
        "import tensorflow as tf\n",
        "from tensorflow.keras.models import Model\n",
        "from tensorflow.keras.layers import Input, LSTM, Dense, Dropout, Bidirectional, BatchNormalization, LeakyReLU\n",
        "from tensorflow.keras.callbacks import ReduceLROnPlateau, EarlyStopping, LearningRateScheduler\n",
        "from tensorflow.keras import regularizers\n",
        "from tensorflow.keras.optimizers import Adam\n",
        "\n",
        "# Define the model\n",
        "def sequence_prediction_model(input_shape, l1_reg=1e-4, l2_reg=1e-4):\n",
        "    main_input = Input(shape=input_shape, name='main_input')\n",
        "\n",
        "    # LSTM layers\n",
        "    x = Bidirectional(LSTM(128, return_sequences=True, dropout=0.3, recurrent_dropout=0.2, kernel_regularizer=tf.keras.regularizers.l1_l2(l1=l1_reg, l2=l2_reg)))(main_input)\n",
        "    x = BatchNormalization()(x)\n",
        "    x = LSTM(128, return_sequences=False, dropout=0.3, recurrent_dropout=0.2)(x)\n",
        "    x = BatchNormalization()(x)\n",
        "\n",
        "    # Dense layers\n",
        "    violin2_output = Dense(1, name='violin2_dense')(x)\n",
        "    violin2_output = LeakyReLU(name='violin2_output')(violin2_output)\n",
        "\n",
        "    viola_output = Dense(1, name='viola_dense')(x)\n",
        "    viola_output = LeakyReLU(name='viola_output')(viola_output)\n",
        "\n",
        "    cello_output = Dense(1, name='cello_dense')(x)\n",
        "    cello_output = LeakyReLU(name='cello_output')(cello_output)\n",
        "\n",
        "    # Model compilation\n",
        "    model = Model(inputs=main_input, outputs=[violin2_output, viola_output, cello_output])\n",
        "\n",
        "    optimizer = Adam(learning_rate=3e-4)\n",
        "    model.compile(optimizer=optimizer, loss='mse')\n",
        "\n",
        "    return model\n",
        "\n",
        "# Model instantiaiton\n",
        "input_shape = (6000, 1)\n",
        "sequence_prediction_model = sequence_prediction_model(input_shape)\n",
        "sequence_prediction_model.summary()\n",
        "\n",
        "# Learning rate schedule\n",
        "def lr_schedule(epoch):\n",
        "    if epoch < 5:\n",
        "        return 3e-4\n",
        "    else:\n",
        "        return 1e-4\n",
        "\n",
        "# Callbacks\n",
        "lr_callback = LearningRateScheduler(lr_schedule, verbose=1)\n",
        "reduce_lr = ReduceLROnPlateau(monitor='val_loss', factor=0.2, patience=5, min_lr=1e-6)\n",
        "early_stopping = EarlyStopping(monitor='val_loss', patience=10, restore_best_weights=True)\n",
        "\n",
        "\n",
        "# Training the model\n",
        "history = sequence_prediction_model.fit(\n",
        "    x_train_v1_std,\n",
        "    {'violin2_output': y_train_v1_std[:, 0],\n",
        "     'viola_output': y_train_v1_std[:, 1],\n",
        "     'cello_output': y_train_v1_std[:, 2]},\n",
        "    epochs=10,\n",
        "    batch_size=32,\n",
        "    validation_data=(x_validation_v1_std,\n",
        "    {'violin2_output': y_validation_v1_std[:, 0],\n",
        "    'viola_output': y_validation_v1_std[:, 1],\n",
        "    'cello_output': y_validation_v1_std[:, 2]}),\n",
        "    callbacks=[lr_callback, early_stopping]\n",
        ")"
      ],
      "metadata": {
        "id": "yD_Qz295raV0"
      },
      "execution_count": null,
      "outputs": []
    },
    {
      "cell_type": "markdown",
      "source": [
        "# Model Evaluation"
      ],
      "metadata": {
        "id": "bBZyUEZGz2ag"
      }
    },
    {
      "cell_type": "code",
      "source": [
        "loss, violin2_mse, viola_mse, cello_mse = sequence_prediction_model.evaluate(\n",
        "    x_test_v1_std,\n",
        "    {'violin2_output': y_test_v1_std[:, 0],\n",
        "     'viola_output': y_test_v1_std[:, 1],\n",
        "     'cello_output': y_test_v1_std[:, 2]},\n",
        "    verbose=1\n",
        ")\n",
        "\n",
        "print(f\"Loss: {loss}, Violin2 MSE: {violin2_mse}, Viola MSE: {viola_mse}, Cello MSE: {cello_mse}\")"
      ],
      "metadata": {
        "id": "oWtF0N5J2Zwn"
      },
      "execution_count": null,
      "outputs": []
    },
    {
      "cell_type": "markdown",
      "source": [
        "# Standardise Prediction Data"
      ],
      "metadata": {
        "id": "5i0dQW1M4cJW"
      }
    },
    {
      "cell_type": "code",
      "source": [
        "# Load the pred datasets\n",
        "pred_data = pd.read_csv('/content/dp_rep12.csv')\n",
        "pred_data.shape\n",
        "\n",
        "# Prepare data for the section where v1 is leading using the test dataset\n",
        "x_pred_v1 = pred_data['Violin 1'].values.reshape(-1, 1)\n",
        "y_pred_v1 = pred_data[['Violin 2', 'Viola', 'Cello']].values\n",
        "\n",
        "x_pred_v1.shape, y_pred_v1.shape\n",
        "\n",
        "from sklearn.preprocessing import StandardScaler\n",
        "\n",
        "# Standardize the x testing data\n",
        "scaler_x_pred_v1 = StandardScaler().fit(x_pred_v1)\n",
        "x_pred_v1_std = scaler_x_pred_v1.transform(x_pred_v1)\n",
        "\n",
        "# Standardize the y testing data\n",
        "scaler_y_pred_v1 = StandardScaler().fit(y_pred_v1)\n",
        "y_pred_v1_std = scaler_y_pred_v1.transform(y_pred_v1)\n",
        "\n",
        "x_pred_v1_std.shape, y_pred_v1_std.shape"
      ],
      "metadata": {
        "id": "EuUGgPdxq35V"
      },
      "execution_count": null,
      "outputs": []
    },
    {
      "cell_type": "markdown",
      "source": [
        "# Prediction"
      ],
      "metadata": {
        "id": "IUTzf4AG7mqI"
      }
    },
    {
      "cell_type": "code",
      "source": [
        "predictions = sequence_prediction_model.predict(x_pred_v1_std)\n",
        "\n",
        "violin2_prediction, viola_prediction, cello_prediction = predictions"
      ],
      "metadata": {
        "id": "ujd_PZAzrQyD"
      },
      "execution_count": null,
      "outputs": []
    },
    {
      "cell_type": "markdown",
      "source": [
        "# Plot Prediction against True Value"
      ],
      "metadata": {
        "id": "WsewwljD7rts"
      }
    },
    {
      "cell_type": "code",
      "source": [
        "import matplotlib.pyplot as plt\n",
        "\n",
        "# Violin 2\n",
        "plt.figure(figsize=(10, 6))\n",
        "plt.plot(y_pred_v1_std[:, 0], label='True Values', color='blue')\n",
        "plt.plot(violin2_prediction, label='Predictions', color='red', linestyle='--')\n",
        "plt.title('Violin 2: True vs Predicted')\n",
        "plt.legend()\n",
        "plt.show()\n",
        "\n",
        "# Viola\n",
        "plt.figure(figsize=(10, 6))\n",
        "plt.plot(y_pred_v1_std[:, 1], label='True Values', color='blue')\n",
        "plt.plot(viola_prediction, label='Predictions', color='red', linestyle='--')\n",
        "plt.title('Viola: True vs Predicted')\n",
        "plt.legend()\n",
        "plt.show()\n",
        "\n",
        "# Cello\n",
        "plt.figure(figsize=(10, 6))\n",
        "plt.plot(y_pred_v1_std[:, 2], label='True Values', color='blue')\n",
        "plt.plot(cello_prediction, label='Predictions', color='red', linestyle='--')\n",
        "plt.title('Cello: True vs Predicted')\n",
        "plt.legend()\n",
        "plt.show()"
      ],
      "metadata": {
        "id": "avLOFSWIrVOq"
      },
      "execution_count": null,
      "outputs": []
    }
  ]
}
